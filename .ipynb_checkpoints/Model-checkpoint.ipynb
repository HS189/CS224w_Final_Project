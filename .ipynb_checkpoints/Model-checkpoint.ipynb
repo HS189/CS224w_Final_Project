{
 "cells": [
  {
   "cell_type": "code",
   "execution_count": 5,
   "id": "22d5907e",
   "metadata": {},
   "outputs": [],
   "source": [
    "import numpy as np\n",
    "import pandas as pd\n",
    "\n",
    "from sklearn.metrics import roc_auc_score\n",
    "import scipy.sparse as sp\n",
    "import os\n",
    "from tqdm import tqdm"
   ]
  },
  {
   "cell_type": "code",
   "execution_count": 6,
   "id": "af277e3c",
   "metadata": {},
   "outputs": [],
   "source": [
    "# def load_data(data_dir, start_ts, end_ts):\n",
    "#     classes_csv = 'elliptic_txs_classes.csv'\n",
    "#     edgelist_csv = 'elliptic_txs_edgelist.csv'\n",
    "#     features_csv = 'elliptic_txs_features.csv'\n",
    "\n",
    "#     classes = pd.read_csv(os.path.join(data_dir, classes_csv), index_col = 'txId') # labels for the transactions i.e. 'unknown', '1', '2'\n",
    "#     edgelist = pd.read_csv(os.path.join(data_dir, edgelist_csv), index_col = 'txId1') # directed edges between transactions\n",
    "#     features = pd.read_csv(os.path.join(data_dir, features_csv), header = None, index_col = 0) # features of the transactions\n",
    "    \n",
    "#     num_features = features.shape[1]\n",
    "#     num_tx = features.shape[0]  \n",
    "#     total_tx = list(classes.index)\n",
    "\n",
    "#     # select only the transactions which are labelled\n",
    "#     labelled_classes = classes[classes['class'] != 'unknown']\n",
    "#     labelled_tx = list(labelled_classes.index)\n",
    "\n",
    "#     # to calculate a list of adjacency matrices for the different timesteps\n",
    "\n",
    "#     adj_mats = []\n",
    "#     features_labelled_ts = []\n",
    "#     classes_ts = []\n",
    "#     num_ts = 49 # number of timestamps from the paper\n",
    "\n",
    "#     for ts in range(start_ts, end_ts):\n",
    "#         features_ts = features[features[1] == ts+1]\n",
    "#         tx_ts = list(features_ts.index)\n",
    "        \n",
    "#         labelled_tx_ts = [tx for tx in tx_ts if tx in set(labelled_tx)]\n",
    "        \n",
    "#         # adjacency matrix for all the transactions\n",
    "#         # we will only fill in the transactions of this timestep which have labels and can be used for training\n",
    "#         adj_mat = pd.DataFrame(np.zeros((num_tx, num_tx)), index = total_tx, columns = total_tx)\n",
    "        \n",
    "#         edgelist_labelled_ts = edgelist.loc[edgelist.index.intersection(labelled_tx_ts).unique()]\n",
    "#         for i in range(edgelist_labelled_ts.shape[0]):\n",
    "#             adj_mat.loc[edgelist_labelled_ts.index[i], edgelist_labelled_ts.iloc[i]['txId2']] = 1\n",
    "        \n",
    "#         adj_mat_ts = adj_mat.loc[labelled_tx_ts, labelled_tx_ts]\n",
    "#         features_l_ts = features.loc[labelled_tx_ts]\n",
    "        \n",
    "#         adj_mats.append(adj_mat_ts)\n",
    "#         features_labelled_ts.append(features_l_ts)\n",
    "#         classes_ts.append(classes.loc[labelled_tx_ts])\n",
    "\n",
    "#     return adj_mats, features_labelled_ts, classes_ts"
   ]
  },
  {
   "cell_type": "code",
   "execution_count": 7,
   "id": "cb948711",
   "metadata": {},
   "outputs": [],
   "source": [
    "# load_data('elliptic_bitcoin_dataset', 0, 30)"
   ]
  },
  {
   "cell_type": "code",
   "execution_count": 8,
   "id": "a7698f26",
   "metadata": {},
   "outputs": [],
   "source": [
    "df = pd.read_csv(os.path.join('elliptic_bitcoin_dataset', 'elliptic_txs_features.csv'), header = None, index_col = 0) "
   ]
  },
  {
   "cell_type": "code",
   "execution_count": 9,
   "id": "4c3e0614",
   "metadata": {},
   "outputs": [],
   "source": [
    "row = df.iloc[0]"
   ]
  },
  {
   "cell_type": "code",
   "execution_count": 14,
   "id": "48f41056",
   "metadata": {},
   "outputs": [
    {
     "name": "stderr",
     "output_type": "stream",
     "text": [
      "  5%|█▋                                  | 9690/203769 [01:16<25:38, 126.11it/s]\n"
     ]
    },
    {
     "ename": "KeyboardInterrupt",
     "evalue": "",
     "output_type": "error",
     "traceback": [
      "\u001b[0;31m---------------------------------------------------------------------------\u001b[0m",
      "\u001b[0;31mKeyboardInterrupt\u001b[0m                         Traceback (most recent call last)",
      "\u001b[0;32m/var/folders/rf/c01bt0kn2w50lz67_p4gwjth0000gn/T/ipykernel_7068/3514361487.py\u001b[0m in \u001b[0;36m<module>\u001b[0;34m\u001b[0m\n\u001b[1;32m      6\u001b[0m     \u001b[0mrow\u001b[0m \u001b[0;34m=\u001b[0m \u001b[0mdf\u001b[0m\u001b[0;34m.\u001b[0m\u001b[0miloc\u001b[0m\u001b[0;34m[\u001b[0m\u001b[0mi\u001b[0m\u001b[0;34m]\u001b[0m\u001b[0;34m\u001b[0m\u001b[0;34m\u001b[0m\u001b[0m\n\u001b[1;32m      7\u001b[0m     \u001b[0;32mfor\u001b[0m \u001b[0mj\u001b[0m \u001b[0;32min\u001b[0m \u001b[0mrange\u001b[0m\u001b[0;34m(\u001b[0m\u001b[0mi\u001b[0m\u001b[0;34m,\u001b[0m \u001b[0mlen\u001b[0m\u001b[0;34m(\u001b[0m\u001b[0mdf\u001b[0m\u001b[0;34m)\u001b[0m\u001b[0;34m)\u001b[0m\u001b[0;34m:\u001b[0m\u001b[0;34m\u001b[0m\u001b[0;34m\u001b[0m\u001b[0m\n\u001b[0;32m----> 8\u001b[0;31m         \u001b[0mp\u001b[0m \u001b[0;34m=\u001b[0m \u001b[0mnp\u001b[0m\u001b[0;34m.\u001b[0m\u001b[0mrandom\u001b[0m\u001b[0;34m.\u001b[0m\u001b[0muniform\u001b[0m\u001b[0;34m(\u001b[0m\u001b[0;34m)\u001b[0m\u001b[0;34m\u001b[0m\u001b[0;34m\u001b[0m\u001b[0m\n\u001b[0m\u001b[1;32m      9\u001b[0m         \u001b[0;32mif\u001b[0m \u001b[0mp\u001b[0m \u001b[0;34m>\u001b[0m \u001b[0;36m0.01\u001b[0m\u001b[0;34m:\u001b[0m\u001b[0;34m\u001b[0m\u001b[0;34m\u001b[0m\u001b[0m\n\u001b[1;32m     10\u001b[0m             \u001b[0;32mcontinue\u001b[0m\u001b[0;34m\u001b[0m\u001b[0;34m\u001b[0m\u001b[0m\n",
      "\u001b[0;31mKeyboardInterrupt\u001b[0m: "
     ]
    }
   ],
   "source": [
    "sims = []\n",
    "for i in tqdm(range(len(df))):\n",
    "    p = np.random.uniform()\n",
    "    if p > 0.01:\n",
    "        continue\n",
    "    row = df.iloc[i]\n",
    "    for j in range(i, len(df)):\n",
    "        p = np.random.uniform()\n",
    "        if p > 0.01:\n",
    "            continue\n",
    "        row2 = df.iloc[j]\n",
    "        num_sim = np.count_nonzero(row == row2)\n",
    "        sims.append(num_sim)"
   ]
  },
  {
   "cell_type": "code",
   "execution_count": 19,
   "id": "154285c9",
   "metadata": {},
   "outputs": [
    {
     "ename": "ModuleNotFoundError",
     "evalue": "No module named 'matplotlib'",
     "output_type": "error",
     "traceback": [
      "\u001b[0;31m---------------------------------------------------------------------------\u001b[0m",
      "\u001b[0;31mModuleNotFoundError\u001b[0m                       Traceback (most recent call last)",
      "\u001b[0;32m/var/folders/rf/c01bt0kn2w50lz67_p4gwjth0000gn/T/ipykernel_7068/2592547520.py\u001b[0m in \u001b[0;36m<module>\u001b[0;34m\u001b[0m\n\u001b[0;32m----> 1\u001b[0;31m \u001b[0;32mimport\u001b[0m \u001b[0mmatplotlib\u001b[0m\u001b[0;34m.\u001b[0m\u001b[0mpyplot\u001b[0m \u001b[0;32mas\u001b[0m \u001b[0mplt\u001b[0m\u001b[0;34m\u001b[0m\u001b[0;34m\u001b[0m\u001b[0m\n\u001b[0m\u001b[1;32m      2\u001b[0m \u001b[0mplt\u001b[0m\u001b[0;34m.\u001b[0m\u001b[0mhist\u001b[0m\u001b[0;34m(\u001b[0m\u001b[0msims\u001b[0m\u001b[0;34m)\u001b[0m\u001b[0;34m\u001b[0m\u001b[0;34m\u001b[0m\u001b[0m\n",
      "\u001b[0;31mModuleNotFoundError\u001b[0m: No module named 'matplotlib'"
     ]
    }
   ],
   "source": [
    "import matplotlib.pyplot as plt\n",
    "plt.hist(sims)"
   ]
  },
  {
   "cell_type": "code",
   "execution_count": null,
   "id": "b1ce167a",
   "metadata": {},
   "outputs": [],
   "source": []
  }
 ],
 "metadata": {
  "kernelspec": {
   "display_name": "Python 3 (ipykernel)",
   "language": "python",
   "name": "python3"
  },
  "language_info": {
   "codemirror_mode": {
    "name": "ipython",
    "version": 3
   },
   "file_extension": ".py",
   "mimetype": "text/x-python",
   "name": "python",
   "nbconvert_exporter": "python",
   "pygments_lexer": "ipython3",
   "version": "3.9.7"
  }
 },
 "nbformat": 4,
 "nbformat_minor": 5
}
